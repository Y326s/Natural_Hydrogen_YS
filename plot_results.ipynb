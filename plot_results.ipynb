{
 "cells": [
  {
   "cell_type": "code",
   "execution_count": null,
   "metadata": {},
   "outputs": [],
   "source": [
    "import os\n",
    "import importlib\n",
    "import numpy as np\n",
    "import h5py\n",
    "from myutils import plot_tool\n",
    "\n",
    "import discretize\n",
    "from discretize import TensorMesh\n",
    "from SimPEG import (\n",
    "    maps\n",
    ")\n",
    "np.random.seed(0)"
   ]
  },
  {
   "cell_type": "code",
   "execution_count": null,
   "metadata": {},
   "outputs": [],
   "source": [
    "mesh_name = \"mesh_joint_Hannah_exfine\"\n",
    "folder_name = \"mesh_joint_Hannah_exfine_040825_032959_results_in_article\"\n",
    "\n",
    "mkdir_list = [\"./temp_inv_out/\" + folder_name + \"/saved_figures/\",\n",
    "              \"./temp_inv_out/\" + folder_name + \"/saved_figures/x/\",\n",
    "              \"./temp_inv_out/\" + folder_name + \"/saved_figures/y/\",\n",
    "              \"./temp_inv_out/\" + folder_name + \"/saved_figures/z/\",\n",
    "              \"./temp_inv_out/\" + folder_name + \"/saved_figures/z_sep/\",\n",
    "              \"./temp_inv_out/\" + folder_name + \"/saved_figures/y_contour/\",\n",
    "              \"./temp_inv_out/\" + folder_name + \"/saved_figures/z_contour/\"\n",
    "              ]\n",
    "for dirs in mkdir_list:\n",
    "    if os.path.exists(dirs):\n",
    "        print(\"{0:s} already exists! Skip creating this directory.\".format(dirs))\n",
    "    else:\n",
    "        os.mkdir(dirs)\n",
    "        print(\"Directory {0:s} created.\".format(dirs))\n",
    "\n",
    "# Read mesh and parameters for plotting\n",
    "mesh = TensorMesh._readUBC_3DMesh(\"./mesh/\" + mesh_name + \".txt\")\n",
    "mesh_rm = TensorMesh._readUBC_3DMesh(\"./mesh/\" + mesh_name + \"_rm.txt\")\n",
    "\n",
    "with h5py.File(\"./temp_inv_out/\" + folder_name + \"/saved_model/paras.h5\", \"r\") as h5f:\n",
    "    xpad = h5f.attrs[\"xpad\"]\n",
    "    ypad = h5f.attrs[\"ypad\"]\n",
    "    magDSrate = h5f.attrs[\"magDSrate\"]\n",
    "    std_grv = h5f.attrs[\"std_grv\"]\n",
    "    std_mag = h5f.attrs[\"std_mag\"]\n",
    "    select_region = h5f[\"core_zone\"][:]\n",
    "\n",
    "# Observed data, topography, and active cells\n",
    "data_grv_ori = np.load(\"./temp_inv_out/\" + folder_name + \"/saved_data/data_grv_ori.npy\")\n",
    "data_mag_ori = np.load(\"./temp_inv_out/\" + folder_name + \"/saved_data/data_mag_ori.npy\")\n",
    "topo_xyz = np.load(\"./temp_inv_out/\" + folder_name + \"/saved_data/topo_xyz.npy\")\n",
    "ind_active = np.load(\"./temp_inv_out/\" + folder_name + \"/saved_data/ind_active.npy\")\n",
    "# Jointly inverted models and data\n",
    "recovered_model = np.load(\"./temp_inv_out/\" + folder_name + \"/saved_model/recovered_model.npy\")\n",
    "inv_prob_dpred = np.load(\"./temp_inv_out/\" + folder_name + \"/saved_model/inv_prob.npy\")\n",
    "\n",
    "dobs_grv = data_grv_ori[:, 3]\n",
    "dpred_grv = -inv_prob_dpred[:data_grv_ori.shape[0]]  # CAUTION: The +z direction in SimPEG points upwards.\n",
    "stations_grv = data_grv_ori[:,0:2]\n",
    "dobs_mag = data_mag_ori[::magDSrate, 3]\n",
    "dpred_mag = inv_prob_dpred[data_grv_ori.shape[0]:]\n",
    "stations_mag = data_mag_ori[::magDSrate,0:2]\n",
    "\n",
    "nC = int(ind_active.sum())\n",
    "model_map = maps.IdentityMap(nP=nC)  # model consists of a value for each active cell\n",
    "# Create Wires Map that maps from stacked models to individual model components\n",
    "wires = maps.Wires((\"density\", nC), (\"susceptibility\", nC))\n",
    "m_dens_joint, m_susc_joint = wires * recovered_model\n",
    "\n",
    "# If inverted models without padding have been saved\n",
    "model_dens_rm_f = discretize.TensorMesh.read_model_UBC(mesh_rm, file_name=\"./temp_inv_out/\" + folder_name + \"/saved_model/joint_dens_model_rm_UBC.txt\")\n",
    "model_susc_rm_f = discretize.TensorMesh.read_model_UBC(mesh_rm, file_name=\"./temp_inv_out/\" + folder_name + \"/saved_model/joint_susc_model_rm_UBC.txt\")\n",
    "\n",
    "meshinfo_dic = {'xpad': xpad,\n",
    "                'ypad': ypad,\n",
    "                'select_region': select_region\n",
    "                }"
   ]
  },
  {
   "cell_type": "code",
   "execution_count": null,
   "metadata": {},
   "outputs": [],
   "source": [
    "# If you made any changes to the Plot_tool class, please run this line to reload it\n",
    "# importlib.reload(plot_tool)"
   ]
  },
  {
   "cell_type": "code",
   "execution_count": null,
   "metadata": {},
   "outputs": [],
   "source": [
    "## Now, please initialize the plotting tool and plot needed figures using following blocks\n",
    "# Initialize plotting tools\n",
    "Plot_tool = plot_tool.Plot_tool(mesh, mesh_rm, meshinfo_dic, m_dens_joint, m_susc_joint, ind_active)"
   ]
  },
  {
   "cell_type": "code",
   "execution_count": null,
   "metadata": {},
   "outputs": [],
   "source": [
    "# Plot isostatic gravity anomaly data\n",
    "# Saved in ./temp_inv_out/<folder_name>/saved_figures/\n",
    "Plot_tool.plot_grv_map(folder_name, data_grv_ori)"
   ]
  },
  {
   "cell_type": "code",
   "execution_count": null,
   "metadata": {},
   "outputs": [],
   "source": [
    "# Plot total field magnetic anomaly data\n",
    "# Saved in ./temp_inv_out/<folder_name>/saved_figures/\n",
    "Plot_tool.plot_mag_map(folder_name, data_mag_ori)"
   ]
  },
  {
   "cell_type": "code",
   "execution_count": null,
   "metadata": {},
   "outputs": [],
   "source": [
    "# Plot topography data\n",
    "# Saved in ./temp_inv_out/<folder_name>/saved_figures/\n",
    "Plot_tool.plot_topo_map(folder_name, topo_xyz)"
   ]
  },
  {
   "cell_type": "code",
   "execution_count": null,
   "metadata": {},
   "outputs": [],
   "source": [
    "# Plot observed/predicted/misfit for gravity data\n",
    "# Saved in ./temp_inv_out/<folder_name>/saved_figures/\n",
    "Plot_tool.plot_grv_compare(folder_name, stations_grv, dobs_grv, dpred_grv, std_grv)"
   ]
  },
  {
   "cell_type": "code",
   "execution_count": null,
   "metadata": {},
   "outputs": [],
   "source": [
    "# Plot observed/predicted/misfit for magnetic data\n",
    "# Saved in ./temp_inv_out/<folder_name>/saved_figures/\n",
    "Plot_tool.plot_mag_compare(folder_name, stations_mag, dobs_mag, dpred_mag, std_mag)"
   ]
  },
  {
   "cell_type": "code",
   "execution_count": null,
   "metadata": {},
   "outputs": [],
   "source": [
    "# Plot depth slices for recovered models\n",
    "# Saved in ./temp_inv_out/<folder_name>/saved_figures/z\n",
    "Plot_tool.plot_depth_slices(folder_name)"
   ]
  },
  {
   "cell_type": "code",
   "execution_count": null,
   "metadata": {},
   "outputs": [],
   "source": [
    "# Plot vertical slices for recovered models along northing direction at each easting grid\n",
    "# Saved in ./temp_inv_out/<folder_name>/saved_figures/x\n",
    "Plot_tool.plot_easting_slices(folder_name)"
   ]
  },
  {
   "cell_type": "code",
   "execution_count": null,
   "metadata": {},
   "outputs": [],
   "source": [
    "# Plot vertical slices for recovered models along easting direction at each northing grid\n",
    "# Saved in ./temp_inv_out/<folder_name>/saved_figures/y\n",
    "Plot_tool.plot_northing_slices(folder_name)"
   ]
  },
  {
   "cell_type": "code",
   "execution_count": null,
   "metadata": {},
   "outputs": [],
   "source": [
    "# Preprocess geology differentiation results\n",
    "Plot_tool.prep_GD_result(model_dens_rm_f, model_susc_rm_f)"
   ]
  },
  {
   "cell_type": "code",
   "execution_count": null,
   "metadata": {},
   "outputs": [],
   "source": [
    "# Plot a depth slice for the quasi-geology model with contours outline a chosen quasi-geology model unit (at chosen depth)\n",
    "# Saved in ./temp_inv_out/<folder_name>/saved_figures/z_contour\n",
    "Plot_tool.plot_qusi_depth_slices(folder_name, -2000, 10, Mts_flag=True, PPs_flag=False, Ws_flag=False, gtWs_flag=True)"
   ]
  },
  {
   "cell_type": "code",
   "execution_count": null,
   "metadata": {},
   "outputs": [],
   "source": [
    "# Plot a depth slice for the recovered models with contours outline a chosen quasi-geology model unit (at chosen depth)\n",
    "# Saved in ./temp_inv_out/<folder_name>/saved_figures/z_contour\n",
    "Plot_tool.plot_contour_depth_slices(folder_name, -2000, 10, den_clim=(-0.3, 0.3), sus_clim=(-0.05, 0.05), Mts_flag=True, PPs_flag=False, Ws_flag=False, gtWs_flag=True)"
   ]
  },
  {
   "cell_type": "code",
   "execution_count": null,
   "metadata": {},
   "outputs": [],
   "source": [
    "# Plot a vertical slice (along easting direction) for the quasi-geology model with contours outline a chosen quasi-geology model unit (at chosen northing grid)\n",
    "# Saved in ./temp_inv_out/<folder_name>/saved_figures/y_contour\n",
    "Plot_tool.plot_qusi_northing_slices(folder_name, 4300000, 10)"
   ]
  },
  {
   "cell_type": "code",
   "execution_count": null,
   "metadata": {},
   "outputs": [],
   "source": [
    "# Plot a vertical slice (along easting direction) for the recovered models with contours outline a chosen quasi-geology model unit (at chosen northing grid)\n",
    "# Saved in ./temp_inv_out/<folder_name>/saved_figures/y_contour\n",
    "Plot_tool.plot_contour_northing_slices(folder_name, 4300000, 10)"
   ]
  }
 ],
 "metadata": {
  "kernelspec": {
   "display_name": "Python 3",
   "language": "python",
   "name": "python3"
  },
  "language_info": {
   "codemirror_mode": {
    "name": "ipython",
    "version": 3
   },
   "file_extension": ".py",
   "mimetype": "text/x-python",
   "name": "python",
   "nbconvert_exporter": "python",
   "pygments_lexer": "ipython3",
   "version": "3.10.12"
  }
 },
 "nbformat": 4,
 "nbformat_minor": 2
}
